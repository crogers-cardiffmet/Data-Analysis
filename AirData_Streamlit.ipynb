{
  "nbformat": 4,
  "nbformat_minor": 0,
  "metadata": {
    "colab": {
      "provenance": [],
      "authorship_tag": "ABX9TyOlJkXqfRRkhOxhGMNbf4fd",
      "include_colab_link": true
    },
    "kernelspec": {
      "name": "python3",
      "display_name": "Python 3"
    },
    "language_info": {
      "name": "python"
    }
  },
  "cells": [
    {
      "cell_type": "markdown",
      "metadata": {
        "id": "view-in-github",
        "colab_type": "text"
      },
      "source": [
        "<a href=\"https://colab.research.google.com/github/crogers-cardiffmet/Data-Analysis/blob/main/AirData_Streamlit.ipynb\" target=\"_parent\"><img src=\"https://colab.research.google.com/assets/colab-badge.svg\" alt=\"Open In Colab\"/></a>"
      ]
    },
    {
      "cell_type": "code",
      "source": [
        "from google.colab import drive\n",
        "drive.mount('/content/drive')"
      ],
      "metadata": {
        "colab": {
          "base_uri": "https://localhost:8080/"
        },
        "id": "0k2Hx3kg0JiT",
        "outputId": "9d05e883-eb3b-42e5-b040-357ec8d4db61"
      },
      "execution_count": 1,
      "outputs": [
        {
          "output_type": "stream",
          "name": "stdout",
          "text": [
            "Drive already mounted at /content/drive; to attempt to forcibly remount, call drive.mount(\"/content/drive\", force_remount=True).\n"
          ]
        }
      ]
    },
    {
      "cell_type": "code",
      "execution_count": 2,
      "metadata": {
        "colab": {
          "base_uri": "https://localhost:8080/"
        },
        "id": "AdiWLW_BybN9",
        "outputId": "a713daae-b840-48a9-f102-2a19393db561"
      },
      "outputs": [
        {
          "output_type": "stream",
          "name": "stdout",
          "text": [
            "/content/drive/MyDrive/Air_Data\n"
          ]
        }
      ],
      "source": [
        "%cd '/content/drive/MyDrive/Air_Data/'"
      ]
    },
    {
      "cell_type": "code",
      "source": [
        "!pip install streamlit"
      ],
      "metadata": {
        "colab": {
          "base_uri": "https://localhost:8080/"
        },
        "id": "qlcv--t40ul0",
        "outputId": "c052c841-9977-44d0-b736-5d1521e62bd6"
      },
      "execution_count": 3,
      "outputs": [
        {
          "output_type": "stream",
          "name": "stdout",
          "text": [
            "Requirement already satisfied: streamlit in /usr/local/lib/python3.11/dist-packages (1.45.1)\n",
            "Requirement already satisfied: altair<6,>=4.0 in /usr/local/lib/python3.11/dist-packages (from streamlit) (5.5.0)\n",
            "Requirement already satisfied: blinker<2,>=1.5.0 in /usr/local/lib/python3.11/dist-packages (from streamlit) (1.9.0)\n",
            "Requirement already satisfied: cachetools<6,>=4.0 in /usr/local/lib/python3.11/dist-packages (from streamlit) (5.5.2)\n",
            "Requirement already satisfied: click<9,>=7.0 in /usr/local/lib/python3.11/dist-packages (from streamlit) (8.2.0)\n",
            "Requirement already satisfied: numpy<3,>=1.23 in /usr/local/lib/python3.11/dist-packages (from streamlit) (2.0.2)\n",
            "Requirement already satisfied: packaging<25,>=20 in /usr/local/lib/python3.11/dist-packages (from streamlit) (24.2)\n",
            "Requirement already satisfied: pandas<3,>=1.4.0 in /usr/local/lib/python3.11/dist-packages (from streamlit) (2.2.2)\n",
            "Requirement already satisfied: pillow<12,>=7.1.0 in /usr/local/lib/python3.11/dist-packages (from streamlit) (11.2.1)\n",
            "Requirement already satisfied: protobuf<7,>=3.20 in /usr/local/lib/python3.11/dist-packages (from streamlit) (5.29.4)\n",
            "Requirement already satisfied: pyarrow>=7.0 in /usr/local/lib/python3.11/dist-packages (from streamlit) (18.1.0)\n",
            "Requirement already satisfied: requests<3,>=2.27 in /usr/local/lib/python3.11/dist-packages (from streamlit) (2.32.3)\n",
            "Requirement already satisfied: tenacity<10,>=8.1.0 in /usr/local/lib/python3.11/dist-packages (from streamlit) (9.1.2)\n",
            "Requirement already satisfied: toml<2,>=0.10.1 in /usr/local/lib/python3.11/dist-packages (from streamlit) (0.10.2)\n",
            "Requirement already satisfied: typing-extensions<5,>=4.4.0 in /usr/local/lib/python3.11/dist-packages (from streamlit) (4.13.2)\n",
            "Requirement already satisfied: watchdog<7,>=2.1.5 in /usr/local/lib/python3.11/dist-packages (from streamlit) (6.0.0)\n",
            "Requirement already satisfied: gitpython!=3.1.19,<4,>=3.0.7 in /usr/local/lib/python3.11/dist-packages (from streamlit) (3.1.44)\n",
            "Requirement already satisfied: pydeck<1,>=0.8.0b4 in /usr/local/lib/python3.11/dist-packages (from streamlit) (0.9.1)\n",
            "Requirement already satisfied: tornado<7,>=6.0.3 in /usr/local/lib/python3.11/dist-packages (from streamlit) (6.4.2)\n",
            "Requirement already satisfied: jinja2 in /usr/local/lib/python3.11/dist-packages (from altair<6,>=4.0->streamlit) (3.1.6)\n",
            "Requirement already satisfied: jsonschema>=3.0 in /usr/local/lib/python3.11/dist-packages (from altair<6,>=4.0->streamlit) (4.23.0)\n",
            "Requirement already satisfied: narwhals>=1.14.2 in /usr/local/lib/python3.11/dist-packages (from altair<6,>=4.0->streamlit) (1.39.0)\n",
            "Requirement already satisfied: gitdb<5,>=4.0.1 in /usr/local/lib/python3.11/dist-packages (from gitpython!=3.1.19,<4,>=3.0.7->streamlit) (4.0.12)\n",
            "Requirement already satisfied: python-dateutil>=2.8.2 in /usr/local/lib/python3.11/dist-packages (from pandas<3,>=1.4.0->streamlit) (2.9.0.post0)\n",
            "Requirement already satisfied: pytz>=2020.1 in /usr/local/lib/python3.11/dist-packages (from pandas<3,>=1.4.0->streamlit) (2025.2)\n",
            "Requirement already satisfied: tzdata>=2022.7 in /usr/local/lib/python3.11/dist-packages (from pandas<3,>=1.4.0->streamlit) (2025.2)\n",
            "Requirement already satisfied: charset-normalizer<4,>=2 in /usr/local/lib/python3.11/dist-packages (from requests<3,>=2.27->streamlit) (3.4.2)\n",
            "Requirement already satisfied: idna<4,>=2.5 in /usr/local/lib/python3.11/dist-packages (from requests<3,>=2.27->streamlit) (3.10)\n",
            "Requirement already satisfied: urllib3<3,>=1.21.1 in /usr/local/lib/python3.11/dist-packages (from requests<3,>=2.27->streamlit) (2.4.0)\n",
            "Requirement already satisfied: certifi>=2017.4.17 in /usr/local/lib/python3.11/dist-packages (from requests<3,>=2.27->streamlit) (2025.4.26)\n",
            "Requirement already satisfied: smmap<6,>=3.0.1 in /usr/local/lib/python3.11/dist-packages (from gitdb<5,>=4.0.1->gitpython!=3.1.19,<4,>=3.0.7->streamlit) (5.0.2)\n",
            "Requirement already satisfied: MarkupSafe>=2.0 in /usr/local/lib/python3.11/dist-packages (from jinja2->altair<6,>=4.0->streamlit) (3.0.2)\n",
            "Requirement already satisfied: attrs>=22.2.0 in /usr/local/lib/python3.11/dist-packages (from jsonschema>=3.0->altair<6,>=4.0->streamlit) (25.3.0)\n",
            "Requirement already satisfied: jsonschema-specifications>=2023.03.6 in /usr/local/lib/python3.11/dist-packages (from jsonschema>=3.0->altair<6,>=4.0->streamlit) (2025.4.1)\n",
            "Requirement already satisfied: referencing>=0.28.4 in /usr/local/lib/python3.11/dist-packages (from jsonschema>=3.0->altair<6,>=4.0->streamlit) (0.36.2)\n",
            "Requirement already satisfied: rpds-py>=0.7.1 in /usr/local/lib/python3.11/dist-packages (from jsonschema>=3.0->altair<6,>=4.0->streamlit) (0.24.0)\n",
            "Requirement already satisfied: six>=1.5 in /usr/local/lib/python3.11/dist-packages (from python-dateutil>=2.8.2->pandas<3,>=1.4.0->streamlit) (1.17.0)\n"
          ]
        }
      ]
    },
    {
      "cell_type": "code",
      "source": [
        "!python data_loader.py"
      ],
      "metadata": {
        "colab": {
          "base_uri": "https://localhost:8080/"
        },
        "id": "KiZHHbfmjo1c",
        "outputId": "825ac926-aa92-4b64-fe17-98dbee1936f0"
      },
      "execution_count": 12,
      "outputs": [
        {
          "output_type": "stream",
          "name": "stdout",
          "text": [
            "2025-05-16 15:14:47.665 WARNING streamlit.runtime.caching.cache_data_api: No runtime found, using MemoryCacheStorageManager\n"
          ]
        }
      ]
    },
    {
      "cell_type": "code",
      "source": [
        "%%writefile data_overview.py\n",
        "\n",
        "import streamlit as st\n",
        "import pandas as pd\n",
        "import numpy as np\n",
        "import matplotlib.pyplot as plt\n",
        "import seaborn as sns\n",
        "\n",
        "from data_loader import load_data\n",
        "\n",
        "def app():\n",
        "    st.title(\"Data Overview\")\n",
        "    df = load_data()\n",
        "\n",
        "    ext_ints = [\n",
        "        c for c in df.columns\n",
        "        if pd.api.types.is_integer_dtype(df[c].dtype) and df[c].isnull().any()\n",
        "    ]\n",
        "    for col in ext_ints:\n",
        "        df[col] = df[col].astype(\"float64\")\n",
        "\n",
        "    st.subheader(\"Sample & Shape\")\n",
        "    st.dataframe(df.head())\n",
        "    st.write(f\"Rows: {df.shape[0]}, Columns: {df.shape[1]}\")\n",
        "\n",
        "    # Basic info\n",
        "    st.subheader(\"Sample & Shape\")\n",
        "    st.dataframe(df.head())\n",
        "    st.write(f\"Rows: {df.shape[0]}, Columns: {df.shape[1]}\")\n",
        "\n",
        "    # Date filter\n",
        "    if 'date' in df.columns:\n",
        "        st.subheader(\"Filter by Date\")\n",
        "        min_date, max_date = st.date_input(\n",
        "            \"Date range\",\n",
        "            value=(df['date'].min().date(), df['date'].max().date())\n",
        "        )\n",
        "        mask = (df['date'].dt.date >= min_date) & (df['date'].dt.date <= max_date)\n",
        "        df_filtered = df.loc[mask]\n",
        "        st.write(f\"Showing {df_filtered.shape[0]} rows between {min_date} and {max_date}\")\n",
        "        st.dataframe(df_filtered.head())\n",
        "\n",
        "    # Show missing values\n",
        "    st.subheader(\"Missing Values\")\n",
        "    missing = pd.DataFrame({\n",
        "        'count': df.isna().sum(),\n",
        "        '%': 100*df.isna().mean()\n",
        "    }).query(\"count>0\")\n",
        "    st.dataframe(missing.style.background_gradient(\"Reds\"))\n",
        "    st.subheader(\"Data types\")\n",
        "    st.write(df.dtypes)\n",
        "\n",
        "    # Station and wind direction counts\n",
        "    st.subheader(\"Station Counts\")\n",
        "    st.bar_chart(df['station'].value_counts())\n",
        "    st.subheader(\"Wind Direction Counts\")\n",
        "    st.bar_chart(df['wd'].value_counts())\n",
        "\n",
        "    # Correlation matrix\n",
        "    st.subheader(\"Correlation Matrix\")\n",
        "    numeric_df = df.select_dtypes(include=[np.number])\n",
        "    corr_with_pm25 = numeric_df.corr()['PM2.5'].sort_values(ascending=False).drop('PM2.5')\n",
        "    st.table(corr_with_pm25.to_frame(name=\"Correlation\"))\n",
        "\n",
        "    # PM2.5 distribution\n",
        "    st.subheader(\"PM2.5 Distribution\")\n",
        "    fig, ax = plt.subplots(figsize=(6,3))\n",
        "    sns.histplot(df['PM2.5'], bins=30, kde=True, ax=ax)\n",
        "    st.pyplot(fig)\n"
      ],
      "metadata": {
        "colab": {
          "base_uri": "https://localhost:8080/"
        },
        "id": "qPfw1iAMy_W3",
        "outputId": "04a14c7c-a391-4b08-913b-22e9c3bdec23"
      },
      "execution_count": 19,
      "outputs": [
        {
          "output_type": "stream",
          "name": "stdout",
          "text": [
            "Overwriting data_overview.py\n"
          ]
        }
      ]
    },
    {
      "cell_type": "code",
      "source": [
        "%%writefile eda.py\n",
        "\n",
        "import streamlit as st\n",
        "import pandas as pd\n",
        "import numpy as np\n",
        "import seaborn as sns\n",
        "import matplotlib.pyplot as plt\n",
        "\n",
        "from data_loader import load_data\n",
        "\n",
        "# Defining wind direction order for consistency\n",
        "wind_dir_order = ['N', 'NNE', 'NE', 'ENE', 'E', 'ESE', 'SE', 'SSE',\n",
        "                  'S', 'SSW', 'SW', 'WSW', 'W', 'WNW', 'NW', 'NNW']\n",
        "\n",
        "def app():\n",
        "    st.title(\"Exploratory Data Analysis\")\n",
        "\n",
        "    df = load_data()\n",
        "    numeric = ['PM2.5','PM10','SO2','NO2','CO','O3']\n",
        "\n",
        "    # Time range & granularity\n",
        "    st.subheader(\"Time Range & Granularity\")\n",
        "    min_date, max_date = st.date_input(\n",
        "    \"Select a date range\",\n",
        "    value=(df['date'].min().date(), df['date'].max().date())\n",
        "    )\n",
        "    mask = (df['date'].dt.date >= min_date) & (df['date'].dt.date <= max_date)\n",
        "    df_slice = df.loc[mask]\n",
        "\n",
        "    gran = st.radio(\"Resample frequency\", ['D','W','M'], index=2, format_func=lambda x: {'D':'Daily','W':'Weekly','M':'Monthly'}[x])\n",
        "    ts = df_slice.set_index('date')[numeric].resample(gran).mean()\n",
        "    st.line_chart(ts)\n",
        "\n",
        "    # Distributions\n",
        "    st.subheader(\"Distributions\")\n",
        "    fig, axes = plt.subplots(2, 3, figsize=(15,6))\n",
        "    for i, col in enumerate(numeric):\n",
        "        ax = axes.flatten()[i]\n",
        "        sns.histplot(df_slice[col].dropna(), kde=True, ax=ax)\n",
        "        ax.set_title(col)\n",
        "    st.pyplot(fig)\n",
        "\n",
        "    # Boxplots\n",
        "    st.subheader(\"Boxplots\")\n",
        "    fig, axes = plt.subplots(2, 3, figsize=(15,6))\n",
        "    for i, col in enumerate(numeric):\n",
        "        ax = axes.flatten()[i]\n",
        "        sns.boxplot(x=df_slice[col].dropna(), ax=ax, color='orange')\n",
        "        ax.set_title(col)\n",
        "    st.pyplot(fig)\n",
        "\n",
        "    # Correlation heatmap\n",
        "    st.subheader(\"Correlation Heatmap\")\n",
        "    corr = df_slice[numeric].corr()\n",
        "    fig, ax = plt.subplots(figsize=(6,5))\n",
        "    sns.heatmap(corr, annot=True, cmap='coolwarm', vmin=-1, vmax=1, ax=ax)\n",
        "    st.pyplot(fig)\n",
        "\n",
        "    # Pairwise scatter matrix\n",
        "    st.subheader(\"Pairwise Scatter Matrix\")\n",
        "    cols = st.multiselect(\"Pick features for pairplot\", numeric, default=numeric[:4])\n",
        "    if len(cols) >= 2:\n",
        "        sample = df_slice[cols].dropna().sample(min(len(df_slice), 2000), random_state=42)\n",
        "        fig = sns.pairplot(sample, corner=True, plot_kws={'alpha':0.3})\n",
        "        st.pyplot(fig)\n",
        "    else:\n",
        "        st.info(\"Select at least two features to see a pairplot.\")\n",
        "\n",
        "    # Seasonal distributions\n",
        "    st.subheader(\"Seasonal Distributions\")\n",
        "    seasons = {12:'Winter',1:'Winter',2:'Winter',\n",
        "               3:'Spring',4:'Spring',5:'Spring',\n",
        "               6:'Summer',7:'Summer',8:'Summer',\n",
        "               9:'Fall',10:'Fall',11:'Fall'}\n",
        "    df_slice['season'] = df_slice['month'].map(seasons)\n",
        "    sel_pollutant = st.selectbox(\"Pick a pollutant for season boxplot\", numeric)\n",
        "    fig, ax = plt.subplots(figsize=(8,4))\n",
        "    sns.boxplot(x='season', y=sel_pollutant, data=df_slice,\n",
        "                order=['Winter','Spring','Summer','Fall'], ax=ax)\n",
        "    ax.set_title(f\"{sel_pollutant} by Season\")\n",
        "    st.pyplot(fig)\n",
        "\n",
        "    # Custom scatter plot\n",
        "    st.subheader(\"Custom Scatter Plot\")\n",
        "    xcol = st.selectbox(\"X axis\", numeric, index=0)\n",
        "    ycol = st.selectbox(\"Y axis\", numeric, index=1)\n",
        "    hue = st.selectbox(\"Color by\", [None] + numeric)\n",
        "    fig, ax = plt.subplots(figsize=(6,4))\n",
        "    if hue:\n",
        "        sc = ax.scatter(df_slice[xcol], df_slice[ycol], c=df_slice[hue], cmap='viridis', alpha=0.5)\n",
        "        plt.colorbar(sc, ax=ax, label=hue)\n",
        "    else:\n",
        "        ax.scatter(df_slice[xcol], df_slice[ycol], alpha=0.5)\n",
        "    ax.set_xlabel(xcol)\n",
        "    ax.set_ylabel(ycol)\n",
        "    ax.set_title(f\"{ycol} vs {xcol}\")\n",
        "    st.pyplot(fig)"
      ],
      "metadata": {
        "colab": {
          "base_uri": "https://localhost:8080/"
        },
        "id": "bo1v5P8FzTcI",
        "outputId": "228600d0-6ed0-482a-a258-4098890191ec"
      },
      "execution_count": 20,
      "outputs": [
        {
          "output_type": "stream",
          "name": "stdout",
          "text": [
            "Overwriting eda.py\n"
          ]
        }
      ]
    },
    {
      "cell_type": "code",
      "source": [
        "!python train_and_save.py"
      ],
      "metadata": {
        "colab": {
          "base_uri": "https://localhost:8080/"
        },
        "id": "zkI3d-5kGghK",
        "outputId": "9c71df11-7f91-4fa0-af32-83fdd5e4dcbe"
      },
      "execution_count": 21,
      "outputs": [
        {
          "output_type": "stream",
          "name": "stdout",
          "text": [
            "/usr/local/lib/python3.11/dist-packages/sklearn/model_selection/_search.py:317: UserWarning: The total space of parameters 1 is smaller than n_iter=10. Running 1 iterations. For exhaustive searches, use GridSearchCV.\n",
            "  warnings.warn(\n",
            "Fitting 3 folds for each of 1 candidates, totalling 3 fits\n",
            "[CV] END max_depth=20, max_features=sqrt, min_samples_leaf=4, min_samples_split=2, n_estimators=100; total time= 3.4min\n",
            "[CV] END max_depth=20, max_features=sqrt, min_samples_leaf=4, min_samples_split=2, n_estimators=100; total time= 3.4min\n",
            "[CV] END max_depth=20, max_features=sqrt, min_samples_leaf=4, min_samples_split=2, n_estimators=100; total time= 2.1min\n"
          ]
        }
      ]
    },
    {
      "cell_type": "code",
      "source": [
        "%%writefile modeling_prediction.py\n",
        "\n",
        "import streamlit as st\n",
        "import pandas as pd\n",
        "import joblib\n",
        "import numpy as np\n",
        "import matplotlib.pyplot as plt\n",
        "import seaborn as sns\n",
        "from sklearn.metrics import mean_squared_error, r2_score\n",
        "\n",
        "from data_loader import load_data\n",
        "\n",
        "@st.cache_resource\n",
        "def load_model_and_scaler():\n",
        "    rf     = joblib.load(\"rf_model.pkl\")\n",
        "    scaler = joblib.load(\"scaler.pkl\")\n",
        "    return rf, scaler\n",
        "\n",
        "@st.cache_data\n",
        "def load_test_set():\n",
        "    X_test = pd.read_csv(\"X_test.csv\")\n",
        "    y_test = pd.read_csv(\"y_test.csv\").squeeze()\n",
        "    return X_test, y_test\n",
        "\n",
        "def app():\n",
        "    st.title(\"Modeling & Prediction\")\n",
        "\n",
        "    df = load_data()\n",
        "\n",
        "    ext_ints = [\n",
        "        c for c in df.columns\n",
        "        if pd.api.types.is_integer_dtype(df[c].dtype) and df[c].isnull().any()\n",
        "    ]\n",
        "    for col in ext_ints:\n",
        "        df[col] = df[col].astype(\"float64\")\n",
        "\n",
        "    st.subheader(\"Sample & Shape\")\n",
        "    st.dataframe(df.head())\n",
        "    st.write(f\"Rows: {df.shape[0]}, Columns: {df.shape[1]}\")\n",
        "    rf, sc  = load_model_and_scaler()\n",
        "    X_test, y_test = load_test_set()\n",
        "\n",
        "    X_test_s = sc.transform(X_test)\n",
        "    y_pred   = rf.predict(X_test_s)\n",
        "\n",
        "    # Metrics\n",
        "    mse  = mean_squared_error(y_test, y_pred)\n",
        "    rmse = np.sqrt(mse)\n",
        "    r2   = r2_score(y_test, y_pred)\n",
        "    st.subheader(\"Model Performance\")\n",
        "    st.write(f\"- **MSE:**  {mse:.2f}\")\n",
        "    st.write(f\"- **RMSE:** {rmse:.2f}\")\n",
        "    st.write(f\"- **R²:**   {r2:.3f}\")\n",
        "\n",
        "    # Feature importance\n",
        "    features = ['PM10','SO2','NO2','CO','O3']\n",
        "    imp = pd.Series(rf.feature_importances_, index=features).sort_values(ascending=False)\n",
        "    st.subheader(\"Feature Importance\")\n",
        "    st.bar_chart(imp)\n",
        "\n",
        "    # Actual vs predicted chart\n",
        "    st.subheader(\"Actual vs Predicted PM2.5\")\n",
        "    comp = pd.DataFrame({'Actual': y_test, 'Predicted': y_pred})\n",
        "    st.line_chart(comp.reset_index(drop=True))\n",
        "\n",
        "    # Residuals distribution\n",
        "    st.subheader(\"Residuals Distribution\")\n",
        "    resid = y_test - y_pred\n",
        "    fig, ax = plt.subplots()\n",
        "    sns.histplot(resid, kde=True, ax=ax)\n",
        "    st.pyplot(fig)\n",
        "\n",
        "    # User prediction\n",
        "    st.subheader(\"Make Your Own Prediction\")\n",
        "    user = {}\n",
        "    for f in features:\n",
        "        user[f] = st.number_input(f, float(df[f].min()), float(df[f].max()), float(df[f].median()))\n",
        "    if st.button(\"Predict\"):\n",
        "        X_new = sc.transform(pd.DataFrame([user]))\n",
        "        out   = rf.predict(X_new)[0]\n",
        "        st.success(f\"Predicted PM2.5: {out:.2f} µg/m³\")\n"
      ],
      "metadata": {
        "colab": {
          "base_uri": "https://localhost:8080/"
        },
        "id": "HLdF1A_I_vD5",
        "outputId": "5eda01af-1f6a-4210-b419-322bac8a43fb"
      },
      "execution_count": 22,
      "outputs": [
        {
          "output_type": "stream",
          "name": "stdout",
          "text": [
            "Overwriting modeling_prediction.py\n"
          ]
        }
      ]
    }
  ]
}